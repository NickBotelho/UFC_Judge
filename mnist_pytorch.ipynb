{
 "cells": [
  {
   "cell_type": "code",
   "execution_count": 1,
   "metadata": {},
   "outputs": [
    {
     "name": "stdout",
     "output_type": "stream",
     "text": [
      "1.7.1\n"
     ]
    }
   ],
   "source": [
    "from __future__ import print_function\n",
    "import argparse\n",
    "import torch\n",
    "print(torch.__version__)\n",
    "import torch.nn as NN\n",
    "import torch.nn.functional as F\n",
    "import torch.optim as optim\n",
    "import torchvision\n",
    "from torchvision import datasets, transforms"
   ]
  },
  {
   "cell_type": "code",
   "execution_count": 2,
   "metadata": {},
   "outputs": [],
   "source": [
    "# Define the model #CNN Model\n",
    "class Net(NN.Module):\n",
    "    def __init__(self):\n",
    "        super(Net, self).__init__() #initialize the superclass\n",
    "         #2 convolutionaal layers\n",
    "        self.conv1 = NN.Conv2d(1, 20, 5, stride=1) #1 layer\n",
    "        self.conv2 = NN.Conv2d(20, 50, 5, stride=1) #output of first layer will be input to next layer, 20 convolutional layers and the output will be 50 conv layers\n",
    "        #20 and 50 are 'hyperparameters' and these are somewhat arbitrary based on performance\n",
    "        self.pool = NN.MaxPool2d(2, 2)\n",
    "        self.fc1 = NN.Linear(4*4*50, 20) #fully connected network, output will be 20 dimensions\n",
    "        self.fc2 = NN.Linear(20, 10)\n",
    "\n",
    "    def forward(self, x): #the whole pipeline of the computation\n",
    "        x = self.pool( F.relu(self.conv1(x)) ) #run through the first conv layers then apply the activation function\n",
    "        #ReLU takes input, anything below zero it returns zero\n",
    "        #No padding here, pooling reduces size of images by half\n",
    "        x = self.pool( F.relu(self.conv2(x)) ) #apply second conv layer with relu and pooling\n",
    "        x = x.view(-1, 4*4*50) #flattens the image\n",
    "        x = F.relu(self.fc1(x))\n",
    "        x = self.fc2(x)\n",
    "        return F.log_softmax(x, dim=1)\n",
    "        \n",
    "def train(model, train_loader, optimizer, epoch):\n",
    "    model.train()\n",
    "    for batch_idx, (data, target) in enumerate(train_loader):\n",
    "        optimizer.zero_grad() #for each new data make a new gradient\n",
    "        #output = model(torch.autograd.Variable(data))\n",
    "        output = model( data )\n",
    "        loss = F.nll_loss(output, target) #gets the error between the model output and the ground truth\n",
    "        #.nll_loss is an error function\n",
    "        loss.backward() #backpropogate the gradient\n",
    "        optimizer.step() #update the parameters \n",
    "        if batch_idx % 100 == 0:\n",
    "            print('Train Epoch: {} [{}/{} ({:.0f}%)]\\tLoss: {:.6f}'.format(\n",
    "                epoch+1, batch_idx * len(data), len(train_loader.dataset),\n",
    "                100. * batch_idx / len(train_loader), loss.item()))\n",
    "\n",
    "def test(model, test_loader): #test the model on the test dataset\n",
    "    model.eval()\n",
    "    test_loss = 0\n",
    "    correct = 0\n",
    "    with torch.no_grad():\n",
    "        for data, target in test_loader:\n",
    "            output = model(data)\n",
    "            test_loss += F.nll_loss(output, target, reduction='sum').item() # sum up batch loss\n",
    "            pred = output.argmax(dim=1, keepdim=True) # get the index of the max log-probability\n",
    "            correct += pred.eq(target.view_as(pred)).sum().item()\n",
    "\n",
    "    test_loss /= len(test_loader.dataset)\n",
    "\n",
    "    print('\\nTest set: Average loss: {:.4f}, Accuracy: {}/{} ({:.0f}%)\\n'.format(\n",
    "        test_loss, correct, len(test_loader.dataset),\n",
    "        100. * correct / len(test_loader.dataset)))"
   ]
  },
  {
   "cell_type": "code",
   "execution_count": 3,
   "metadata": {},
   "outputs": [
    {
     "name": "stdout",
     "output_type": "stream",
     "text": [
      "Downloading http://yann.lecun.com/exdb/mnist/train-images-idx3-ubyte.gz to ../data\\MNIST\\raw\\train-images-idx3-ubyte.gz\n"
     ]
    },
    {
     "data": {
      "application/vnd.jupyter.widget-view+json": {
       "model_id": "91e7c22d137742f3a3c3eb08904a8e0a",
       "version_major": 2,
       "version_minor": 0
      },
      "text/plain": [
       "HBox(children=(HTML(value=''), FloatProgress(value=1.0, bar_style='info', layout=Layout(width='20px'), max=1.0…"
      ]
     },
     "metadata": {},
     "output_type": "display_data"
    },
    {
     "name": "stdout",
     "output_type": "stream",
     "text": [
      "Extracting ../data\\MNIST\\raw\\train-images-idx3-ubyte.gz to ../data\\MNIST\\raw\n",
      "Downloading http://yann.lecun.com/exdb/mnist/train-labels-idx1-ubyte.gz to ../data\\MNIST\\raw\\train-labels-idx1-ubyte.gz\n"
     ]
    },
    {
     "data": {
      "application/vnd.jupyter.widget-view+json": {
       "model_id": "f003085beec74082b8fa136ac91452b6",
       "version_major": 2,
       "version_minor": 0
      },
      "text/plain": [
       "HBox(children=(HTML(value=''), FloatProgress(value=1.0, bar_style='info', layout=Layout(width='20px'), max=1.0…"
      ]
     },
     "metadata": {},
     "output_type": "display_data"
    },
    {
     "name": "stdout",
     "output_type": "stream",
     "text": [
      "Extracting ../data\\MNIST\\raw\\train-labels-idx1-ubyte.gz to ../data\\MNIST\\raw\n",
      "Downloading http://yann.lecun.com/exdb/mnist/t10k-images-idx3-ubyte.gz to ../data\\MNIST\\raw\\t10k-images-idx3-ubyte.gz\n"
     ]
    },
    {
     "data": {
      "application/vnd.jupyter.widget-view+json": {
       "model_id": "22199f4dc1c94e7e911512242704b616",
       "version_major": 2,
       "version_minor": 0
      },
      "text/plain": [
       "HBox(children=(HTML(value=''), FloatProgress(value=1.0, bar_style='info', layout=Layout(width='20px'), max=1.0…"
      ]
     },
     "metadata": {},
     "output_type": "display_data"
    },
    {
     "name": "stdout",
     "output_type": "stream",
     "text": [
      "Extracting ../data\\MNIST\\raw\\t10k-images-idx3-ubyte.gz to ../data\\MNIST\\raw\n",
      "Downloading http://yann.lecun.com/exdb/mnist/t10k-labels-idx1-ubyte.gz to ../data\\MNIST\\raw\\t10k-labels-idx1-ubyte.gz\n"
     ]
    },
    {
     "data": {
      "application/vnd.jupyter.widget-view+json": {
       "model_id": "53f4753a45824e5e927baaf8c99fd624",
       "version_major": 2,
       "version_minor": 0
      },
      "text/plain": [
       "HBox(children=(HTML(value=''), FloatProgress(value=1.0, bar_style='info', layout=Layout(width='20px'), max=1.0…"
      ]
     },
     "metadata": {},
     "output_type": "display_data"
    },
    {
     "name": "stdout",
     "output_type": "stream",
     "text": [
      "Extracting ../data\\MNIST\\raw\\t10k-labels-idx1-ubyte.gz to ../data\\MNIST\\raw\n",
      "Processing...\n",
      "\n",
      "\n"
     ]
    },
    {
     "name": "stderr",
     "output_type": "stream",
     "text": [
      "C:\\ProgramData\\Anaconda3\\lib\\site-packages\\torchvision\\datasets\\mnist.py:480: UserWarning: The given NumPy array is not writeable, and PyTorch does not support non-writeable tensors. This means you can write to the underlying (supposedly non-writeable) NumPy array using the tensor. You may want to copy the array to protect its data or make it writeable before converting it to a tensor. This type of warning will be suppressed for the rest of this program. (Triggered internally at  ..\\torch\\csrc\\utils\\tensor_numpy.cpp:141.)\n",
      "  return torch.from_numpy(parsed.astype(m[2], copy=False)).view(*s)\n"
     ]
    },
    {
     "name": "stdout",
     "output_type": "stream",
     "text": [
      "Done!\n"
     ]
    }
   ],
   "source": [
    "train_batchsize = 64\n",
    "test_batchsize = 1000\n",
    "trainEpochs = 10\n",
    "learningRate = 0.01\n",
    "sgdmomentum = 0.9\n",
    "transform = transforms.Compose([transforms.ToTensor(), transforms.Normalize((0.1307,), (0.3081,))])\n",
    "#tranform converts input into tensoors aand then normalize it\n",
    "\n",
    "trainset = datasets.MNIST(root='../data', train=True, download=True, transform=transform)\n",
    "trainloader = torch.utils.data.DataLoader(trainset, batch_size=train_batchsize, shuffle=True)\n",
    "\n",
    "testset = datasets.MNIST(root='../data', train=False, download=True, transform=transform)\n",
    "testloader = torch.utils.data.DataLoader(testset, batch_size=test_batchsize, shuffle=False)"
   ]
  },
  {
   "cell_type": "code",
   "execution_count": 4,
   "metadata": {},
   "outputs": [
    {
     "name": "stdout",
     "output_type": "stream",
     "text": [
      "\n",
      "\n"
     ]
    },
    {
     "data": {
      "text/plain": [
       "torch.Size([1000, 1, 28, 28])"
      ]
     },
     "execution_count": 4,
     "metadata": {},
     "output_type": "execute_result"
    }
   ],
   "source": [
    "# Check samples I\n",
    "examples = enumerate(testloader)\n",
    "batch_idx, (example_data, example_targets) = next(examples)\n",
    "example_data.shape"
   ]
  },
  {
   "cell_type": "code",
   "execution_count": 5,
   "metadata": {},
   "outputs": [
    {
     "data": {
      "image/png": "[encoded data removed]",
      "text/plain": [
       "<Figure size 432x288 with 6 Axes>"
      ]
     },
     "metadata": {},
     "output_type": "display_data"
    }
   ],
   "source": [
    "# Check samples II\n",
    "import matplotlib.pyplot as plt\n",
    "\n",
    "fig = plt.figure()\n",
    "for i in range(6):\n",
    "  plt.subplot(2,3,i+1)\n",
    "  plt.tight_layout()\n",
    "  plt.imshow(example_data[i][0].numpy(), cmap='gray', interpolation='none')\n",
    "  plt.title(\"Ground Truth: {}\".format(example_targets[i]))\n",
    "  plt.xticks([])\n",
    "  plt.yticks([])"
   ]
  },
  {
   "cell_type": "code",
   "execution_count": 6,
   "metadata": {},
   "outputs": [
    {
     "name": "stderr",
     "output_type": "stream",
     "text": [
      "C:\\ProgramData\\Anaconda3\\lib\\site-packages\\torch\\autograd\\__init__.py:130: UserWarning: CUDA initialization: The NVIDIA driver on your system is too old (found version 10010). Please update your GPU driver by downloading and installing a new version from the URL: http://www.nvidia.com/Download/index.aspx Alternatively, go to: https://pytorch.org to install a PyTorch version that has been compiled with your version of the CUDA driver. (Triggered internally at  ..\\c10\\cuda\\CUDAFunctions.cpp:100.)\n",
      "  Variable._execution_engine.run_backward(\n"
     ]
    },
    {
     "name": "stdout",
     "output_type": "stream",
     "text": [
      "Train Epoch: 1 [0/60000 (0%)]\tLoss: 2.284337\n",
      "Train Epoch: 1 [6400/60000 (11%)]\tLoss: 0.343673\n",
      "Train Epoch: 1 [12800/60000 (21%)]\tLoss: 0.366328\n",
      "Train Epoch: 1 [19200/60000 (32%)]\tLoss: 0.109828\n",
      "Train Epoch: 1 [25600/60000 (43%)]\tLoss: 0.110291\n",
      "Train Epoch: 1 [32000/60000 (53%)]\tLoss: 0.049436\n",
      "Train Epoch: 1 [38400/60000 (64%)]\tLoss: 0.141679\n",
      "Train Epoch: 1 [44800/60000 (75%)]\tLoss: 0.062940\n",
      "Train Epoch: 1 [51200/60000 (85%)]\tLoss: 0.043758\n",
      "Train Epoch: 1 [57600/60000 (96%)]\tLoss: 0.132893\n",
      "\n",
      "Test set: Average loss: 0.0492, Accuracy: 9853/10000 (99%)\n",
      "\n",
      "Train Epoch: 2 [0/60000 (0%)]\tLoss: 0.093009\n",
      "Train Epoch: 2 [6400/60000 (11%)]\tLoss: 0.058254\n",
      "Train Epoch: 2 [12800/60000 (21%)]\tLoss: 0.092242\n",
      "Train Epoch: 2 [19200/60000 (32%)]\tLoss: 0.071805\n",
      "Train Epoch: 2 [25600/60000 (43%)]\tLoss: 0.057262\n",
      "Train Epoch: 2 [32000/60000 (53%)]\tLoss: 0.065759\n",
      "Train Epoch: 2 [38400/60000 (64%)]\tLoss: 0.040552\n",
      "Train Epoch: 2 [44800/60000 (75%)]\tLoss: 0.082740\n",
      "Train Epoch: 2 [51200/60000 (85%)]\tLoss: 0.037248\n",
      "Train Epoch: 2 [57600/60000 (96%)]\tLoss: 0.035391\n",
      "\n",
      "Test set: Average loss: 0.0374, Accuracy: 9879/10000 (99%)\n",
      "\n",
      "Train Epoch: 3 [0/60000 (0%)]\tLoss: 0.033233\n",
      "Train Epoch: 3 [6400/60000 (11%)]\tLoss: 0.070824\n",
      "Train Epoch: 3 [12800/60000 (21%)]\tLoss: 0.001182\n",
      "Train Epoch: 3 [19200/60000 (32%)]\tLoss: 0.065335\n",
      "Train Epoch: 3 [25600/60000 (43%)]\tLoss: 0.008851\n",
      "Train Epoch: 3 [32000/60000 (53%)]\tLoss: 0.002369\n",
      "Train Epoch: 3 [38400/60000 (64%)]\tLoss: 0.041505\n",
      "Train Epoch: 3 [44800/60000 (75%)]\tLoss: 0.014862\n",
      "Train Epoch: 3 [51200/60000 (85%)]\tLoss: 0.035499\n",
      "Train Epoch: 3 [57600/60000 (96%)]\tLoss: 0.025851\n",
      "\n",
      "Test set: Average loss: 0.0388, Accuracy: 9864/10000 (99%)\n",
      "\n",
      "Train Epoch: 4 [0/60000 (0%)]\tLoss: 0.051603\n",
      "Train Epoch: 4 [6400/60000 (11%)]\tLoss: 0.012062\n",
      "Train Epoch: 4 [12800/60000 (21%)]\tLoss: 0.017520\n",
      "Train Epoch: 4 [19200/60000 (32%)]\tLoss: 0.055991\n",
      "Train Epoch: 4 [25600/60000 (43%)]\tLoss: 0.029915\n",
      "Train Epoch: 4 [32000/60000 (53%)]\tLoss: 0.021964\n",
      "Train Epoch: 4 [38400/60000 (64%)]\tLoss: 0.002997\n",
      "Train Epoch: 4 [44800/60000 (75%)]\tLoss: 0.047902\n",
      "Train Epoch: 4 [51200/60000 (85%)]\tLoss: 0.001039\n",
      "Train Epoch: 4 [57600/60000 (96%)]\tLoss: 0.001647\n",
      "\n",
      "Test set: Average loss: 0.0371, Accuracy: 9876/10000 (99%)\n",
      "\n",
      "Train Epoch: 5 [0/60000 (0%)]\tLoss: 0.007594\n",
      "Train Epoch: 5 [6400/60000 (11%)]\tLoss: 0.001566\n",
      "Train Epoch: 5 [12800/60000 (21%)]\tLoss: 0.015904\n",
      "Train Epoch: 5 [19200/60000 (32%)]\tLoss: 0.019781\n",
      "Train Epoch: 5 [25600/60000 (43%)]\tLoss: 0.008864\n",
      "Train Epoch: 5 [32000/60000 (53%)]\tLoss: 0.046564\n",
      "Train Epoch: 5 [38400/60000 (64%)]\tLoss: 0.021834\n",
      "Train Epoch: 5 [44800/60000 (75%)]\tLoss: 0.028281\n",
      "Train Epoch: 5 [51200/60000 (85%)]\tLoss: 0.007856\n",
      "Train Epoch: 5 [57600/60000 (96%)]\tLoss: 0.288417\n",
      "\n",
      "Test set: Average loss: 0.0280, Accuracy: 9904/10000 (99%)\n",
      "\n",
      "Train Epoch: 6 [0/60000 (0%)]\tLoss: 0.004033\n",
      "Train Epoch: 6 [6400/60000 (11%)]\tLoss: 0.004173\n",
      "Train Epoch: 6 [12800/60000 (21%)]\tLoss: 0.034333\n",
      "Train Epoch: 6 [19200/60000 (32%)]\tLoss: 0.002699\n",
      "Train Epoch: 6 [25600/60000 (43%)]\tLoss: 0.000456\n",
      "Train Epoch: 6 [32000/60000 (53%)]\tLoss: 0.019654\n",
      "Train Epoch: 6 [38400/60000 (64%)]\tLoss: 0.004062\n",
      "Train Epoch: 6 [44800/60000 (75%)]\tLoss: 0.000491\n",
      "Train Epoch: 6 [51200/60000 (85%)]\tLoss: 0.002697\n",
      "Train Epoch: 6 [57600/60000 (96%)]\tLoss: 0.038373\n",
      "\n",
      "Test set: Average loss: 0.0295, Accuracy: 9915/10000 (99%)\n",
      "\n",
      "Train Epoch: 7 [0/60000 (0%)]\tLoss: 0.012444\n",
      "Train Epoch: 7 [6400/60000 (11%)]\tLoss: 0.024540\n",
      "Train Epoch: 7 [12800/60000 (21%)]\tLoss: 0.017572\n",
      "Train Epoch: 7 [19200/60000 (32%)]\tLoss: 0.006194\n",
      "Train Epoch: 7 [25600/60000 (43%)]\tLoss: 0.022583\n",
      "Train Epoch: 7 [32000/60000 (53%)]\tLoss: 0.029267\n",
      "Train Epoch: 7 [38400/60000 (64%)]\tLoss: 0.000274\n",
      "Train Epoch: 7 [44800/60000 (75%)]\tLoss: 0.000101\n",
      "Train Epoch: 7 [51200/60000 (85%)]\tLoss: 0.005521\n",
      "Train Epoch: 7 [57600/60000 (96%)]\tLoss: 0.002336\n",
      "\n",
      "Test set: Average loss: 0.0306, Accuracy: 9909/10000 (99%)\n",
      "\n",
      "Train Epoch: 8 [0/60000 (0%)]\tLoss: 0.046015\n",
      "Train Epoch: 8 [6400/60000 (11%)]\tLoss: 0.006452\n",
      "Train Epoch: 8 [12800/60000 (21%)]\tLoss: 0.019556\n",
      "Train Epoch: 8 [19200/60000 (32%)]\tLoss: 0.030823\n",
      "Train Epoch: 8 [25600/60000 (43%)]\tLoss: 0.100105\n",
      "Train Epoch: 8 [32000/60000 (53%)]\tLoss: 0.060014\n",
      "Train Epoch: 8 [38400/60000 (64%)]\tLoss: 0.012035\n",
      "Train Epoch: 8 [44800/60000 (75%)]\tLoss: 0.002369\n",
      "Train Epoch: 8 [51200/60000 (85%)]\tLoss: 0.014896\n",
      "Train Epoch: 8 [57600/60000 (96%)]\tLoss: 0.006156\n",
      "\n",
      "Test set: Average loss: 0.0273, Accuracy: 9923/10000 (99%)\n",
      "\n",
      "Train Epoch: 9 [0/60000 (0%)]\tLoss: 0.000451\n",
      "Train Epoch: 9 [6400/60000 (11%)]\tLoss: 0.003309\n",
      "Train Epoch: 9 [12800/60000 (21%)]\tLoss: 0.001054\n",
      "Train Epoch: 9 [19200/60000 (32%)]\tLoss: 0.000878\n",
      "Train Epoch: 9 [25600/60000 (43%)]\tLoss: 0.007615\n",
      "Train Epoch: 9 [32000/60000 (53%)]\tLoss: 0.021057\n",
      "Train Epoch: 9 [38400/60000 (64%)]\tLoss: 0.008901\n",
      "Train Epoch: 9 [44800/60000 (75%)]\tLoss: 0.014402\n",
      "Train Epoch: 9 [51200/60000 (85%)]\tLoss: 0.000307\n",
      "Train Epoch: 9 [57600/60000 (96%)]\tLoss: 0.001024\n",
      "\n",
      "Test set: Average loss: 0.0339, Accuracy: 9906/10000 (99%)\n",
      "\n",
      "Train Epoch: 10 [0/60000 (0%)]\tLoss: 0.024351\n",
      "Train Epoch: 10 [6400/60000 (11%)]\tLoss: 0.016609\n",
      "Train Epoch: 10 [12800/60000 (21%)]\tLoss: 0.005199\n",
      "Train Epoch: 10 [19200/60000 (32%)]\tLoss: 0.000476\n",
      "Train Epoch: 10 [25600/60000 (43%)]\tLoss: 0.003887\n",
      "Train Epoch: 10 [32000/60000 (53%)]\tLoss: 0.000193\n",
      "Train Epoch: 10 [38400/60000 (64%)]\tLoss: 0.003411\n",
      "Train Epoch: 10 [44800/60000 (75%)]\tLoss: 0.004254\n",
      "Train Epoch: 10 [51200/60000 (85%)]\tLoss: 0.003376\n",
      "Train Epoch: 10 [57600/60000 (96%)]\tLoss: 0.003783\n",
      "\n",
      "Test set: Average loss: 0.0302, Accuracy: 9912/10000 (99%)\n",
      "\n"
     ]
    }
   ],
   "source": [
    "# Train and test\n",
    "model = Net()\n",
    "optimizer = optim.SGD(model.parameters(), lr=learningRate, momentum = sgdmomentum) #Stochastic Gradient Search\n",
    "\n",
    "#epoch is a minibatch of data\n",
    "for epoch in range(trainEpochs):\n",
    "    train(model, trainloader, optimizer, epoch)\n",
    "    test(model, testloader)\n"
   ]
  },
  {
   "cell_type": "code",
   "execution_count": null,
   "metadata": {},
   "outputs": [],
   "source": [
    "torch.save(model.state_dict(),\"mnist_cnn.pt\")"
   ]
  },
  {
   "cell_type": "code",
   "execution_count": null,
   "metadata": {},
   "outputs": [],
   "source": []
  }
 ],
 "metadata": {
  "kernelspec": {
   "display_name": "Python 3",
   "language": "python",
   "name": "python3"
  },
  "language_info": {
   "codemirror_mode": {
    "name": "ipython",
    "version": 3
   },
   "file_extension": ".py",
   "mimetype": "text/x-python",
   "name": "python",
   "nbconvert_exporter": "python",
   "pygments_lexer": "ipython3",
   "version": "3.8.5"
  }
 },
 "nbformat": 4,
 "nbformat_minor": 4
}
